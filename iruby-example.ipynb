{
 "metadata": {
  "language": "ruby",
  "name": "",
  "signature": "sha256:0bec0112ea09a03c1fbfcb75d3b7a0f1b3a3aa6c5a8dd5ecc77f1dfc9c9ae727"
 },
 "nbformat": 3,
 "nbformat_minor": 0,
 "worksheets": [
  {
   "cells": [
    {
     "cell_type": "code",
     "collapsed": false,
     "input": [
      "require 'rubicure'"
     ],
     "language": "python",
     "metadata": {},
     "outputs": [
      {
       "metadata": {},
       "output_type": "pyout",
       "prompt_number": 1,
       "text": [
        "true"
       ]
      }
     ],
     "prompt_number": 1
    },
    {
     "cell_type": "code",
     "collapsed": false,
     "input": [
      "Precure.title"
     ],
     "language": "python",
     "metadata": {},
     "outputs": [
      {
       "metadata": {},
       "output_type": "pyout",
       "prompt_number": 2,
       "text": [
        "\"\u3075\u305f\u308a\u306f\u30d7\u30ea\u30ad\u30e5\u30a2\""
       ]
      }
     ],
     "prompt_number": 2
    },
    {
     "cell_type": "code",
     "collapsed": false,
     "input": [
      "Precure.max_heart.title"
     ],
     "language": "python",
     "metadata": {},
     "outputs": [
      {
       "metadata": {},
       "output_type": "pyout",
       "prompt_number": 3,
       "text": [
        "\"\u3075\u305f\u308a\u306f\u30d7\u30ea\u30ad\u30e5\u30a2 Max Heart\""
       ]
      }
     ],
     "prompt_number": 3
    },
    {
     "cell_type": "code",
     "collapsed": false,
     "input": [
      "Precure.each{|series| puts series.title  }"
     ],
     "language": "python",
     "metadata": {},
     "outputs": [
      {
       "output_type": "stream",
       "stream": "stdout",
       "text": [
        "\u3075\u305f\u308a\u306f\u30d7\u30ea\u30ad\u30e5\u30a2\n"
       ]
      },
      {
       "output_type": "stream",
       "stream": "stdout",
       "text": [
        "\u3075\u305f\u308a\u306f\u30d7\u30ea\u30ad\u30e5\u30a2 Max Heart\n"
       ]
      },
      {
       "output_type": "stream",
       "stream": "stdout",
       "text": [
        "\u3075\u305f\u308a\u306f\u30d7\u30ea\u30ad\u30e5\u30a2 Splash Star\n"
       ]
      },
      {
       "output_type": "stream",
       "stream": "stdout",
       "text": [
        "Yes\uff01 \u30d7\u30ea\u30ad\u30e5\u30a25\n"
       ]
      },
      {
       "output_type": "stream",
       "stream": "stdout",
       "text": [
        "Yes\uff01 \u30d7\u30ea\u30ad\u30e5\u30a25 Go Go\uff01\n"
       ]
      },
      {
       "output_type": "stream",
       "stream": "stdout",
       "text": [
        "\u30d5\u30ec\u30c3\u30b7\u30e5\u30d7\u30ea\u30ad\u30e5\u30a2\uff01\n"
       ]
      },
      {
       "output_type": "stream",
       "stream": "stdout",
       "text": [
        "\u30cf\u30fc\u30c8\u30ad\u30e3\u30c3\u30c1\u30d7\u30ea\u30ad\u30e5\u30a2\uff01\n"
       ]
      },
      {
       "output_type": "stream",
       "stream": "stdout",
       "text": [
        "\u30b9\u30a4\u30fc\u30c8\u30d7\u30ea\u30ad\u30e5\u30a2\u266a\n"
       ]
      },
      {
       "output_type": "stream",
       "stream": "stdout",
       "text": [
        "\u30b9\u30de\u30a4\u30eb\u30d7\u30ea\u30ad\u30e5\u30a2\uff01\n"
       ]
      },
      {
       "output_type": "stream",
       "stream": "stdout",
       "text": [
        "\u30c9\u30ad\u30c9\u30ad\uff01\u30d7\u30ea\u30ad\u30e5\u30a2\n"
       ]
      },
      {
       "output_type": "stream",
       "stream": "stdout",
       "text": [
        "\u30cf\u30d4\u30cd\u30b9\u30c1\u30e3\u30fc\u30b8\u30d7\u30ea\u30ad\u30e5\u30a2\uff01\n"
       ]
      },
      {
       "metadata": {},
       "output_type": "pyout",
       "prompt_number": 4,
       "text": [
        "[:unmarked, :max_heart, :splash_star, :yes, :yes_gogo, :fresh, :heart_catch, :suite, :smile, :dokidoki, :happiness_charge]"
       ]
      }
     ],
     "prompt_number": 4
    },
    {
     "cell_type": "code",
     "collapsed": false,
     "input": [
      "Precure.now"
     ],
     "language": "python",
     "metadata": {},
     "outputs": [
      {
       "metadata": {},
       "output_type": "pyout",
       "prompt_number": 5,
       "text": [
        "{:title=>\"\u30cf\u30d4\u30cd\u30b9\u30c1\u30e3\u30fc\u30b8\u30d7\u30ea\u30ad\u30e5\u30a2\uff01\", :started_date=>Sun, 02 Feb 2014, :girls=>[\"cure_lovely\", \"cure_princess\", \"cure_honey\", \"cure_fortune\"]}"
       ]
      }
     ],
     "prompt_number": 5
    }
   ],
   "metadata": {}
  }
 ]
}